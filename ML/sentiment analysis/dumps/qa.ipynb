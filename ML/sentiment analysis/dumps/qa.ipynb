{
 "cells": [
  {
   "cell_type": "code",
   "execution_count": 7,
   "metadata": {},
   "outputs": [],
   "source": [
    "import pandas as pd\n",
    "from transformers import pipeline, AutoTokenizer\n",
    "\n",
    "# Load the RoBERTa-base Squad2 model and tokenizer\n",
    "roberta_model = \"deepset/roberta-base-squad2\"\n",
    "roberta_tokenizer = AutoTokenizer.from_pretrained(roberta_model)\n",
    "roberta_pipeline = pipeline(\"question-answering\", model=roberta_model, tokenizer=roberta_tokenizer)\n",
    "\n",
    "# Load the DataFrame with the text comments\n",
    "df = pd.read_excel(\"evaluations_overall_comments.xlsx\")\n",
    "\n",
    "# Define the question to ask\n",
    "what_was_bad = \"what was bad?\"\n",
    "\n",
    "# Extract multiple answers for each comment in the DataFrame\n",
    "df[\"bad_roberta\"] = df[\"Answer:\"].apply(lambda x: [ans[\"answer\"] for ans in roberta_pipeline(question=what_was_bad, context=x, top_k=2)])\n",
    "\n"
   ]
  },
  {
   "cell_type": "code",
   "execution_count": 8,
   "metadata": {},
   "outputs": [],
   "source": [
    "# Load the BERT-large-uncased-whole-word-masking-finetuned-squad model and tokenizer\n",
    "bert_model = \"bert-large-uncased-whole-word-masking-finetuned-squad\"\n",
    "bert_tokenizer = AutoTokenizer.from_pretrained(bert_model)\n",
    "bert_pipeline = pipeline(\"question-answering\", model=bert_model, tokenizer=bert_tokenizer)\n",
    "\n",
    "# Extract answers for each comment in the DataFrame\n",
    "df[\"bad_bert\"] = df[\"Answer:\"].apply(lambda x: bert_pipeline(question=what_was_bad, context=x)[\"answer\"])\n",
    "\n"
   ]
  },
  {
   "cell_type": "code",
   "execution_count": 9,
   "metadata": {},
   "outputs": [],
   "source": [
    "# Define the question to ask\n",
    "how_to_improve = \"how to improve?\"\n",
    "\n",
    "# Extract multiple answers for each comment in the DataFrame\n",
    "df[\"improve_roberta\"] = df[\"Answer:\"].apply(lambda x: [ans[\"answer\"] for ans in roberta_pipeline(question=how_to_improve, context=x, top_k=2)])"
   ]
  },
  {
   "cell_type": "code",
   "execution_count": 10,
   "metadata": {},
   "outputs": [],
   "source": [
    "# Extract answers for each comment in the DataFrame\n",
    "df[\"improve_bert\"] = df[\"Answer:\"].apply(lambda x: bert_pipeline(question=how_to_improve, context=x)[\"answer\"])"
   ]
  },
  {
   "cell_type": "code",
   "execution_count": 11,
   "metadata": {},
   "outputs": [
    {
     "data": {
      "text/plain": [
       "Index(['Target:', 'Evaluator:', 'Rotation Dates:', 'Service:', 'Answer:',\n",
       "       'bad_roberta', 'bad_bert', 'improve_roberta', 'improve_bert'],\n",
       "      dtype='object')"
      ]
     },
     "execution_count": 11,
     "metadata": {},
     "output_type": "execute_result"
    }
   ],
   "source": [
    "df.columns"
   ]
  },
  {
   "cell_type": "code",
   "execution_count": 12,
   "metadata": {},
   "outputs": [],
   "source": [
    "df.to_excel('question_answering.xlsx')"
   ]
  }
 ],
 "metadata": {
  "kernelspec": {
   "display_name": ".venv",
   "language": "python",
   "name": "python3"
  },
  "language_info": {
   "codemirror_mode": {
    "name": "ipython",
    "version": 3
   },
   "file_extension": ".py",
   "mimetype": "text/x-python",
   "name": "python",
   "nbconvert_exporter": "python",
   "pygments_lexer": "ipython3",
   "version": "3.10.10"
  },
  "orig_nbformat": 4
 },
 "nbformat": 4,
 "nbformat_minor": 2
}
