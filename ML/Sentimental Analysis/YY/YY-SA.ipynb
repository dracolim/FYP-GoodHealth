{
 "cells": [
  {
   "cell_type": "markdown",
   "id": "WR85FaM0Atk2",
   "metadata": {
    "id": "WR85FaM0Atk2"
   },
   "source": [
    "# Sentiment Analysis"
   ]
  },
  {
   "cell_type": "code",
   "execution_count": 42,
   "id": "hk6sJTQPAtk3",
   "metadata": {
    "id": "hk6sJTQPAtk3",
    "outputId": "efc6232b-2b63-41aa-9b78-ebeda1354015"
   },
   "outputs": [
    {
     "name": "stderr",
     "output_type": "stream",
     "text": [
      "[nltk_data] Downloading package vader_lexicon to C:\\nltk_data...\n",
      "[nltk_data]   Package vader_lexicon is already up-to-date!\n"
     ]
    },
    {
     "data": {
      "text/plain": [
       "{'neg': 0.0, 'neu': 0.286, 'pos': 0.714, 'compound': 0.3612}"
      ]
     },
     "execution_count": 42,
     "metadata": {},
     "output_type": "execute_result"
    }
   ],
   "source": [
    "import pandas as pd\n",
    "import re\n",
    "import nltk\n",
    "from nltk.corpus import stopwords\n",
    "from nltk.tokenize import word_tokenize\n",
    "from nltk.sentiment.vader import SentimentIntensityAnalyzer\n",
    "import numpy as np\n",
    "pd.options.mode.chained_assignment = None \n",
    "\n",
    "nltk.download('vader_lexicon')\n",
    "sent_analyzer = SentimentIntensityAnalyzer()\n",
    "\n",
    "sentence = \"i like cats\"\n",
    "sid = SentimentIntensityAnalyzer()\n",
    "sid.polarity_scores(sentence)"
   ]
  },
  {
   "cell_type": "code",
   "execution_count": 43,
   "id": "1874dc74",
   "metadata": {},
   "outputs": [],
   "source": [
    "def clean_text(text):\n",
    "    # Remove non-alphabetic characters and convert to lowercase\n",
    "    text = re.sub('[^A-Za-z]+', ' ', text).lower().strip()\n",
    "    \n",
    "    # Tokenize the text into words\n",
    "    words = word_tokenize(text)\n",
    "    \n",
    "    # Remove stop words\n",
    "    words = [word for word in words if word not in stopwords.words('english')]\n",
    "    \n",
    "    # Join the words back into a cleaned string\n",
    "    cleaned_text = ' '.join(words)\n",
    "    \n",
    "    return cleaned_text"
   ]
  },
  {
   "cell_type": "code",
   "execution_count": 45,
   "id": "xkVJGwGEAtk4",
   "metadata": {
    "id": "xkVJGwGEAtk4"
   },
   "outputs": [
    {
     "name": "stdout",
     "output_type": "stream",
     "text": [
      "<class 'pandas.core.frame.DataFrame'>\n",
      "RangeIndex: 209 entries, 0 to 208\n",
      "Data columns (total 2 columns):\n",
      " #   Column            Non-Null Count  Dtype \n",
      "---  ------            --------------  ----- \n",
      " 0   Comments          209 non-null    object\n",
      " 1   cleaned_comments  209 non-null    object\n",
      "dtypes: object(2)\n",
      "memory usage: 3.4+ KB\n"
     ]
    },
    {
     "data": {
      "text/html": [
       "<div>\n",
       "<style scoped>\n",
       "    .dataframe tbody tr th:only-of-type {\n",
       "        vertical-align: middle;\n",
       "    }\n",
       "\n",
       "    .dataframe tbody tr th {\n",
       "        vertical-align: top;\n",
       "    }\n",
       "\n",
       "    .dataframe thead th {\n",
       "        text-align: right;\n",
       "    }\n",
       "</style>\n",
       "<table border=\"1\" class=\"dataframe\">\n",
       "  <thead>\n",
       "    <tr style=\"text-align: right;\">\n",
       "      <th></th>\n",
       "      <th>Comments</th>\n",
       "      <th>cleaned_comments</th>\n",
       "    </tr>\n",
       "  </thead>\n",
       "  <tbody>\n",
       "    <tr>\n",
       "      <th>0</th>\n",
       "      <td>This medical student demonstrated excellent pr...</td>\n",
       "      <td>medical student demonstrated excellent problem...</td>\n",
       "    </tr>\n",
       "    <tr>\n",
       "      <th>1</th>\n",
       "      <td>They remained calm and composed under pressure...</td>\n",
       "      <td>remained calm composed pressure working diffic...</td>\n",
       "    </tr>\n",
       "    <tr>\n",
       "      <th>2</th>\n",
       "      <td>This medical student showed excellent critical...</td>\n",
       "      <td>medical student showed excellent critical thin...</td>\n",
       "    </tr>\n",
       "    <tr>\n",
       "      <th>3</th>\n",
       "      <td>They were able to prioritize tasks effectively...</td>\n",
       "      <td>able prioritize tasks effectively managing tim...</td>\n",
       "    </tr>\n",
       "    <tr>\n",
       "      <th>4</th>\n",
       "      <td>This medical student showed excellent communic...</td>\n",
       "      <td>medical student showed excellent communication...</td>\n",
       "    </tr>\n",
       "    <tr>\n",
       "      <th>...</th>\n",
       "      <td>...</td>\n",
       "      <td>...</td>\n",
       "    </tr>\n",
       "    <tr>\n",
       "      <th>204</th>\n",
       "      <td>Demonstrates solid PBLI skills, but could bene...</td>\n",
       "      <td>demonstrates solid pbli skills could benefit e...</td>\n",
       "    </tr>\n",
       "    <tr>\n",
       "      <th>205</th>\n",
       "      <td>Is proficient in PBLI, but needs to work on de...</td>\n",
       "      <td>proficient pbli needs work developing inquisit...</td>\n",
       "    </tr>\n",
       "    <tr>\n",
       "      <th>206</th>\n",
       "      <td>Shows promise in terms of PBLI, but could bene...</td>\n",
       "      <td>shows promise terms pbli could benefit exposur...</td>\n",
       "    </tr>\n",
       "    <tr>\n",
       "      <th>207</th>\n",
       "      <td>Demonstrates a good understanding of PBLI prin...</td>\n",
       "      <td>demonstrates good understanding pbli principle...</td>\n",
       "    </tr>\n",
       "    <tr>\n",
       "      <th>208</th>\n",
       "      <td>Has a solid foundation in PBLI, but could bene...</td>\n",
       "      <td>solid foundation pbli could benefit exposure d...</td>\n",
       "    </tr>\n",
       "  </tbody>\n",
       "</table>\n",
       "<p>209 rows × 2 columns</p>\n",
       "</div>"
      ],
      "text/plain": [
       "                                              Comments  \\\n",
       "0    This medical student demonstrated excellent pr...   \n",
       "1    They remained calm and composed under pressure...   \n",
       "2    This medical student showed excellent critical...   \n",
       "3    They were able to prioritize tasks effectively...   \n",
       "4    This medical student showed excellent communic...   \n",
       "..                                                 ...   \n",
       "204  Demonstrates solid PBLI skills, but could bene...   \n",
       "205  Is proficient in PBLI, but needs to work on de...   \n",
       "206  Shows promise in terms of PBLI, but could bene...   \n",
       "207  Demonstrates a good understanding of PBLI prin...   \n",
       "208  Has a solid foundation in PBLI, but could bene...   \n",
       "\n",
       "                                      cleaned_comments  \n",
       "0    medical student demonstrated excellent problem...  \n",
       "1    remained calm composed pressure working diffic...  \n",
       "2    medical student showed excellent critical thin...  \n",
       "3    able prioritize tasks effectively managing tim...  \n",
       "4    medical student showed excellent communication...  \n",
       "..                                                 ...  \n",
       "204  demonstrates solid pbli skills could benefit e...  \n",
       "205  proficient pbli needs work developing inquisit...  \n",
       "206  shows promise terms pbli could benefit exposur...  \n",
       "207  demonstrates good understanding pbli principle...  \n",
       "208  solid foundation pbli could benefit exposure d...  \n",
       "\n",
       "[209 rows x 2 columns]"
      ]
     },
     "execution_count": 45,
     "metadata": {},
     "output_type": "execute_result"
    }
   ],
   "source": [
    "df = pd.read_csv('evaluation comments.csv')\n",
    "\n",
    "df['cleaned_comments'] = df['Comments'].apply(clean_text)\n",
    "\n",
    "df.info()\n",
    "\n",
    "df"
   ]
  },
  {
   "cell_type": "code",
   "execution_count": 46,
   "id": "fm1WfFnVAtk4",
   "metadata": {
    "id": "fm1WfFnVAtk4"
   },
   "outputs": [],
   "source": [
    "def format_output(output_dict):\n",
    "  \n",
    "  polarity = \"neutral\"\n",
    "\n",
    "  if(output_dict['compound']>= 0.05):\n",
    "    polarity = \"positive\"\n",
    "\n",
    "  elif(output_dict['compound']<= -0.05):\n",
    "    polarity = \"negative\"\n",
    "\n",
    "  return polarity\n",
    "\n",
    "def predict_sentiment(text):\n",
    "  \n",
    "  output_dict =  sent_analyzer.polarity_scores(text)\n",
    "  return format_output(output_dict)"
   ]
  },
  {
   "cell_type": "code",
   "execution_count": 47,
   "id": "YWxirlReAtk4",
   "metadata": {
    "id": "YWxirlReAtk4"
   },
   "outputs": [],
   "source": [
    "df[\"vader_prediction\"] = df['Comments'].apply(predict_sentiment)"
   ]
  },
  {
   "cell_type": "code",
   "execution_count": 48,
   "id": "Hq6A12J8Atk5",
   "metadata": {
    "id": "Hq6A12J8Atk5",
    "outputId": "0ec9d43d-4cb3-4465-9bdb-dfc0e2712714"
   },
   "outputs": [
    {
     "data": {
      "text/html": [
       "<div>\n",
       "<style scoped>\n",
       "    .dataframe tbody tr th:only-of-type {\n",
       "        vertical-align: middle;\n",
       "    }\n",
       "\n",
       "    .dataframe tbody tr th {\n",
       "        vertical-align: top;\n",
       "    }\n",
       "\n",
       "    .dataframe thead th {\n",
       "        text-align: right;\n",
       "    }\n",
       "</style>\n",
       "<table border=\"1\" class=\"dataframe\">\n",
       "  <thead>\n",
       "    <tr style=\"text-align: right;\">\n",
       "      <th></th>\n",
       "      <th>Comments</th>\n",
       "      <th>cleaned_comments</th>\n",
       "      <th>vader_prediction</th>\n",
       "    </tr>\n",
       "  </thead>\n",
       "  <tbody>\n",
       "    <tr>\n",
       "      <th>0</th>\n",
       "      <td>This medical student demonstrated excellent pr...</td>\n",
       "      <td>medical student demonstrated excellent problem...</td>\n",
       "      <td>positive</td>\n",
       "    </tr>\n",
       "    <tr>\n",
       "      <th>1</th>\n",
       "      <td>They remained calm and composed under pressure...</td>\n",
       "      <td>remained calm composed pressure working diffic...</td>\n",
       "      <td>neutral</td>\n",
       "    </tr>\n",
       "    <tr>\n",
       "      <th>2</th>\n",
       "      <td>This medical student showed excellent critical...</td>\n",
       "      <td>medical student showed excellent critical thin...</td>\n",
       "      <td>positive</td>\n",
       "    </tr>\n",
       "    <tr>\n",
       "      <th>3</th>\n",
       "      <td>They were able to prioritize tasks effectively...</td>\n",
       "      <td>able prioritize tasks effectively managing tim...</td>\n",
       "      <td>positive</td>\n",
       "    </tr>\n",
       "    <tr>\n",
       "      <th>4</th>\n",
       "      <td>This medical student showed excellent communic...</td>\n",
       "      <td>medical student showed excellent communication...</td>\n",
       "      <td>positive</td>\n",
       "    </tr>\n",
       "  </tbody>\n",
       "</table>\n",
       "</div>"
      ],
      "text/plain": [
       "                                            Comments  \\\n",
       "0  This medical student demonstrated excellent pr...   \n",
       "1  They remained calm and composed under pressure...   \n",
       "2  This medical student showed excellent critical...   \n",
       "3  They were able to prioritize tasks effectively...   \n",
       "4  This medical student showed excellent communic...   \n",
       "\n",
       "                                    cleaned_comments vader_prediction  \n",
       "0  medical student demonstrated excellent problem...         positive  \n",
       "1  remained calm composed pressure working diffic...          neutral  \n",
       "2  medical student showed excellent critical thin...         positive  \n",
       "3  able prioritize tasks effectively managing tim...         positive  \n",
       "4  medical student showed excellent communication...         positive  "
      ]
     },
     "execution_count": 48,
     "metadata": {},
     "output_type": "execute_result"
    }
   ],
   "source": [
    "df.head()"
   ]
  },
  {
   "cell_type": "code",
   "execution_count": 49,
   "id": "GOr-2wfyAtk5",
   "metadata": {
    "id": "GOr-2wfyAtk5"
   },
   "outputs": [],
   "source": [
    "import seaborn as sns\n",
    "import matplotlib\n",
    "import matplotlib.pyplot as plt\n",
    "%matplotlib inline"
   ]
  },
  {
   "cell_type": "code",
   "execution_count": 50,
   "id": "Gj-GaYX4Atk5",
   "metadata": {
    "id": "Gj-GaYX4Atk5",
    "outputId": "dde68827-f4ef-4c6e-c9ec-b8968909a6d4",
    "scrolled": true
   },
   "outputs": [
    {
     "data": {
      "image/png": "[encoded data removed]",
      "text/plain": [
       "<Figure size 500x500 with 1 Axes>"
      ]
     },
     "metadata": {},
     "output_type": "display_data"
    }
   ],
   "source": [
    "# diverging_colors = sns.color_palette(\"coolwarm\", as_cmap=True)\n",
    "\n",
    "sns.catplot(data=df, x=\"vader_prediction\", kind=\"count\", palette=\"coolwarm\", order=[\"positive\", \"neutral\", \"negative\"])\n",
    "plt.show()"
   ]
  },
  {
   "cell_type": "code",
   "execution_count": null,
   "id": "614b5b23",
   "metadata": {},
   "outputs": [],
   "source": []
  }
 ],
 "metadata": {
  "colab": {
   "provenance": []
  },
  "kernelspec": {
   "display_name": "env",
   "language": "python",
   "name": "python3"
  },
  "language_info": {
   "codemirror_mode": {
    "name": "ipython",
    "version": 3
   },
   "file_extension": ".py",
   "mimetype": "text/x-python",
   "name": "python",
   "nbconvert_exporter": "python",
   "pygments_lexer": "ipython3",
   "version": "3.9.12"
  },
  "vscode": {
   "interpreter": {
    "hash": "55a06430d812c8da9e4c931dc428af7e80b323d218b5112a3405189444198b92"
   }
  }
 },
 "nbformat": 4,
 "nbformat_minor": 5
}
